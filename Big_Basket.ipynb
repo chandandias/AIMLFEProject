{
 "cells": [
  {
   "cell_type": "code",
   "execution_count": null,
   "metadata": {},
   "outputs": [],
   "source": [
    "import warnings\n",
    "\n",
    "warnings.filterwarnings('ignore')\n",
    "\n",
    "import requests\n",
    "from bs4 import BeautifulSoup\n",
    "import pandas as pd"
   ]
  },
  {
   "cell_type": "code",
   "execution_count": null,
   "metadata": {},
   "outputs": [],
   "source": [
    "eanCodeLists = []\n",
    "for page in range(2, 9):\n",
    "    url = f\"https://www.bigbasket.com/product/get-products/?slug=dals-pulses&page={page}&tab_type=[%22all%22]&sorted_on=popularity&listtype=pc\"\n",
    "    print(url)\n",
    "    # headers\n",
    "    headers = {\n",
    "        'User-Agent': \"Mozilla/5.0 (X11; Linux x86_64) AppleWebKit/537.36 (KHTML, like Gecko) Chrome/77.0.3865.90 Safari/537.36\"\n",
    "    }\n",
    "\n",
    "    json = requests.get(url).json()\n",
    "    prod_list = json['tab_info']['product_map']['all']['prods']\n",
    "    print(len(prod_list))\n",
    "    for prod in prod_list:\n",
    "        if len(prod['all_prods']) > 0:\n",
    "            for pro in prod['all_prods']:\n",
    "                eanCodeLists.append(pro['sku'])\n",
    "        else:\n",
    "            print('No inner product')\n",
    "            eanCodeLists.append(prod['sku'])\n",
    "        print('\\n\\n')\n",
    "            \n",
    "print(len(eanCodeLists))"
   ]
  },
  {
   "cell_type": "code",
   "execution_count": null,
   "metadata": {},
   "outputs": [],
   "source": [
    "ProductNameList = []\n",
    "BrandNameList = []\n",
    "ProductQtyList = []\n",
    "ProductPriceList = []\n",
    "ProductDescList = []\n",
    "\n",
    "for items in eanCodeLists:\n",
    "    url = \"https://www.bigbasket.com/pd/\" + str(items)\n",
    "    urlopen = requests.get(url).text\n",
    "    data = BeautifulSoup(urlopen, 'lxml')\n",
    "    ProductInfo = data.find(\"h1\", {\"class\": \"GrE04\"}).text.strip()\n",
    "    productName = ProductInfo.split(' ',1)[1].split(',')[0]\n",
    "    ProductNameList.append(productName)\n",
    "    brandName = data.find(\"a\", {\"class\": \"_2zLWN\"}).text.strip()\n",
    "    BrandNameList.append(brandName)\n",
    "    prodQty = ProductInfo.split(' ',1)[1].split(',')[1]\n",
    "    ProductQtyList.append(prodQty)\n",
    "    prodPrice = data.find(\"td\", {\"data-qa\": \"productPrice\"}).text.strip()\n",
    "    ProductPriceList.append(prodPrice)\n",
    "    prodDesc = data.find(\"div\", {\"class\": \"_26MFu\"}).text.strip()\n",
    "    ProductDescList.append(prodDesc)"
   ]
  },
  {
   "cell_type": "code",
   "execution_count": null,
   "metadata": {},
   "outputs": [],
   "source": [
    "table = {'ProductName': ProductNameList, 'BrandName': BrandNameList, 'Product Quantity': ProductQtyList, 'Product Price': ProductPriceList, 'Product Description': ProductDescList}\n",
    "df = pd.DataFrame(table)\n",
    "df.head()"
   ]
  },
  {
   "cell_type": "code",
   "execution_count": null,
   "metadata": {},
   "outputs": [],
   "source": []
  }
 ],
 "metadata": {
  "kernelspec": {
   "display_name": "Python 3",
   "language": "python",
   "name": "python3"
  },
  "language_info": {
   "codemirror_mode": {
    "name": "ipython",
    "version": 3
   },
   "file_extension": ".py",
   "mimetype": "text/x-python",
   "name": "python",
   "nbconvert_exporter": "python",
   "pygments_lexer": "ipython3",
   "version": "3.7.7"
  }
 },
 "nbformat": 4,
 "nbformat_minor": 4
}
